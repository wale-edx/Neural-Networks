{
 "cells": [
  {
   "cell_type": "code",
   "execution_count": 43,
   "metadata": {
    "collapsed": false
   },
   "outputs": [
    {
     "name": "stdout",
     "output_type": "stream",
     "text": [
      "[ 0.1099373   0.23045646  0.14808054 ...,  0.18244718  0.00371732\n",
      "  0.14343837]\n"
     ]
    }
   ],
   "source": [
    "import numpy as np\n",
    "import tensorflow as tf\n",
    "import argparse\n",
    "import glob\n",
    "import os\n",
    "import csv\n",
    "\n",
    "imagePath = '/home/waleed/flower_photos/f.jpg'\n",
    "modelFullPath = '/home/waleed/flower_photos/output_graph.pb'\n",
    "#labelsFullPath = '/tmp/output_labels.txt'\n",
    "indexpath = '/home/waleed/flower_photos/index.csv'\n",
    "\n",
    "def create_graph():\n",
    "    \"\"\"Creates a graph from saved GraphDef file and returns a saver.\"\"\"\n",
    "    # Creates graph from saved graph_def.pb.\n",
    "    with tf.gfile.FastGFile(modelFullPath, 'rb') as f:\n",
    "        graph_def = tf.GraphDef()\n",
    "        graph_def.ParseFromString(f.read())\n",
    "        _ = tf.import_graph_def(graph_def, name='')\n",
    "\n",
    "def run_on_image():\n",
    "    answer = None\n",
    "\n",
    "    if not tf.gfile.Exists(imagePath):\n",
    "        tf.logging.fatal('File does not exist %s', imagePath)\n",
    "        return answer\n",
    "\n",
    "    image_data = tf.gfile.FastGFile(imagePath, 'rb').read()\n",
    "\n",
    "    # Creates graph from saved GraphDef.\n",
    "    create_graph()\n",
    "\n",
    "    with tf.Session() as sess:\n",
    "\n",
    "        next_to_last_tensor = sess.graph.get_tensor_by_name('pool_3:0')\n",
    "        values = sess.run(next_to_last_tensor,{'DecodeJpeg/contents:0': image_data})\n",
    "        values = np.squeeze(values)\n",
    "        \n",
    "\n",
    "    return values\n",
    "if __name__ == '__main__':\n",
    "    #run_inference_on_image()\n",
    "    features=run_on_image()\n",
    "    print features\n",
    "    # saving the features\n",
    "    output = open(indexpath, \"w\")\n",
    "    features = [str(f) for f in features]\n",
    "    output.write(\"%s,%s\\n\" % (\"imageID\", \",\".join(features)))\n",
    "    output.close()"
   ]
  },
  {
   "cell_type": "code",
   "execution_count": 41,
   "metadata": {
    "collapsed": true
   },
   "outputs": [],
   "source": [
    "def chi2_distance(self, histA, histB, eps = 1e-10):\n",
    "    # compute the chi-squared distance\n",
    "    d = 0.5 * np.sum([((a - b) ** 2) / (a + b + eps)\n",
    "        for (a, b) in zip(histA, histB)])\n",
    "\n",
    "    # return the chi-squared distance\n",
    "    return d"
   ]
  },
  {
   "cell_type": "code",
   "execution_count": 42,
   "metadata": {
    "collapsed": true
   },
   "outputs": [],
   "source": [
    "def search(queryFeatures, limit = 10):\n",
    "    # initialize our dictionary of results\n",
    "    results = {}\n",
    "\n",
    "    # open the index file for reading\n",
    "    with open(indexpath) as f:\n",
    "        # initialize the CSV reader\n",
    "        reader = csv.reader(f)\n",
    "\n",
    "        # loop over the rows in the index\n",
    "        for row in reader:\n",
    "            # parse out the image ID and features, then compute the\n",
    "            # chi-squared distance between the features in our index\n",
    "            # and our query features\n",
    "            features = [float(x) for x in row[1:]]\n",
    "            d = self.chi2_distance(features, queryFeatures)\n",
    "\n",
    "            # now that we have the distance between the two feature\n",
    "            # vectors, we can udpate the results dictionary -- the\n",
    "            # key is the current image ID in the index and the\n",
    "            # value is the distance we just computed, representing\n",
    "            # how 'similar' the image in the index is to our query\n",
    "            results[row[0]] = d\n",
    "\n",
    "        # close the reader\n",
    "        f.close()\n",
    "\n",
    "    # sort our results, so that the smaller distances (i.e. the\n",
    "    # more relevant images are at the front of the list)\n",
    "    results = sorted([(v, k) for (k, v) in results.items()])\n",
    "\n",
    "    # return our (limited) results\n",
    "    return results[:limit]\n"
   ]
  },
  {
   "cell_type": "code",
   "execution_count": null,
   "metadata": {
    "collapsed": true
   },
   "outputs": [],
   "source": []
  }
 ],
 "metadata": {
  "anaconda-cloud": {},
  "kernelspec": {
   "display_name": "Python 2",
   "language": "python",
   "name": "python2"
  },
  "language_info": {
   "codemirror_mode": {
    "name": "ipython",
    "version": 2
   },
   "file_extension": ".py",
   "mimetype": "text/x-python",
   "name": "python",
   "nbconvert_exporter": "python",
   "pygments_lexer": "ipython2",
   "version": "2.7.13"
  }
 },
 "nbformat": 4,
 "nbformat_minor": 2
}
