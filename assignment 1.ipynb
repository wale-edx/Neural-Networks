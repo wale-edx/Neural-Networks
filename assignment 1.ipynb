{
 "cells": [
  {
   "cell_type": "code",
   "execution_count": 1,
   "metadata": {
    "collapsed": false,
    "slideshow": {
     "slide_type": "slide"
    }
   },
   "outputs": [
    {
     "name": "stdout",
     "output_type": "stream",
     "text": [
      "Populating the interactive namespace from numpy and matplotlib\n"
     ]
    },
    {
     "data": {
      "text/plain": [
       "{'divide': 'warn', 'invalid': 'warn', 'over': 'warn', 'under': 'ignore'}"
      ]
     },
     "execution_count": 1,
     "metadata": {},
     "output_type": "execute_result"
    }
   ],
   "source": [
    "%pylab inline\n",
    "import numpy as np\n",
    "import math\n",
    "np.seterr(divide='ignore', invalid='ignore', over='ignore')"
   ]
  },
  {
   "cell_type": "markdown",
   "metadata": {
    "raw_mimetype": "text/html"
   },
   "source": [
    "as we see the random weight is not even close to the target output so ...."
   ]
  },
  {
   "cell_type": "markdown",
   "metadata": {},
   "source": [
    "# Training"
   ]
  },
  {
   "cell_type": "code",
   "execution_count": 20,
   "metadata": {
    "collapsed": false
   },
   "outputs": [],
   "source": [
    "x= np.array([\n",
    "[0,0,0,-1],[0,0,1,-1],[0,1,0,-1],[0,1,1,-1],[1,0,0,-1],[1,0,1,-1],[1,1,0,-1],[1,1,1,-1]]\n",
    ")\n",
    "y= np.array([\n",
    "[0],[1],[1],[0],[1],[1],[0],[1]]\n",
    ")\n",
    "inputLayerSize = x.shape[1]\n",
    "outputLayerSize = 1\n",
    "hiddenLayerSize = 3\n",
    "def roundit(inp):\n",
    "    return np.around(inp, decimals=6)\n",
    "def sigmoid(z):\n",
    "    #Apply sigmoid activation function to scalar, vector, or matrix\n",
    "    return roundit(1/(1+np.exp(-z)))\n",
    "\n",
    "w1 = roundit(sigmoid(2*np.random.randn(inputLayerSize,hiddenLayerSize+1) - 1))\n",
    "w2= roundit(sigmoid(2*np.random.randn(outputLayerSize,hiddenLayerSize+1) - 1))\n",
    "#extracol =  2*np.random.random((x[1,2:].shape[0],1)) - 1  \n",
    "#w1 = np.concatenate((w1,extracol),axis=1)\n",
    "#extracol2 = np.array([[0.2]])\n",
    "#w2 = np.concatenate((w2,extracol2),axis=1)\n",
    "\n",
    "def sigmoidprime(z):\n",
    "    return np.exp(-z)/((1+np.exp(-z))**2)\n",
    "\n",
    "def forwardpath(xin):    \n",
    "    global w1,w2,x\n",
    "    #extrarow = np.array([[-1]])\n",
    "    #xin = np.concatenate((xin,extrarow),axis=0)\n",
    "    \n",
    "    net = roundit(np.dot(w1,xin))\n",
    "    activation=roundit(sigmoid(net)) \n",
    "    \n",
    "    #extrarow2 = np.array([[-1]])\n",
    "    #activation = np.concatenate((activation,extrarow2),axis=0)\n",
    "    \n",
    "    net2 = roundit(np.dot(w2,activation))\n",
    "    activation2=roundit(sigmoid(net2))\n",
    "    return net,activation,net2,activation2\n",
    "\n",
    "def train(xin,y):\n",
    "    eta=0.3\n",
    "    delta = 0\n",
    "    global w1,w2,x\n",
    "    for j in range(100000):\n",
    "        totale=0\n",
    "        avaerror=0\n",
    "        for i in range(8):\n",
    "            \n",
    "            inputvector = xin[i:i+1,:].T\n",
    "            t=y[i]        \n",
    "            net,output1,net2,output2 = forwardpath(inputvector)\n",
    "            #print t\n",
    "            \n",
    "            e = roundit(t-output2)\n",
    "            #print w1 ,e\n",
    "            delta1 = e[0][0]*sigmoidprime(net2)\n",
    "            dW2=roundit(eta*delta1*output1)\n",
    "            \n",
    "            k= sigmoidprime(net)*np.multiply(delta1,w2.T)\n",
    "           \n",
    "            dw1 = roundit(eta*np.multiply(k,inputvector.T))\n",
    "            \n",
    "            totale += e[0][0]**2\n",
    "              \n",
    "            if totale/2!=0 :\n",
    "                w2[0] = (w2[0] + dW2.T[0])\n",
    "                w1[0] = (w1[0] + dw1[0])\n",
    "                where_are_NaNs = isnan(w1[0])\n",
    "                w1[0][where_are_NaNs] = 0\n",
    "                where_are_infs = isinf(w1[0])\n",
    "                w1[0][where_are_infs] = 100\n",
    "        avaerror = (totale)/2\n",
    "        if j%10000 == 0:\n",
    "            print (j,avaerror)\n",
    "\n",
    "          "
   ]
  },
  {
   "cell_type": "code",
   "execution_count": 21,
   "metadata": {
    "collapsed": false
   },
   "outputs": [
    {
     "name": "stdout",
     "output_type": "stream",
     "text": [
      "(0, 0.96111232701100013)\n",
      "(10000, 0.33840617071400003)\n",
      "(20000, 0.29217813411449994)\n",
      "(30000, 0.25210508337350002)\n",
      "(40000, 0.21917119886599998)\n",
      "(50000, 0.19249844998749999)\n",
      "(60000, 0.17079214487250005)\n",
      "(70000, 0.15291671532749998)\n",
      "(80000, 0.13799777960700002)\n",
      "(90000, 0.12538288520099999)\n"
     ]
    }
   ],
   "source": [
    "train(x,y)"
   ]
  },
  {
   "cell_type": "code",
   "execution_count": 7,
   "metadata": {
    "collapsed": false
   },
   "outputs": [
    {
     "data": {
      "text/plain": [
       "array([[ 0.601945,  0.938763,  0.011337],\n",
       "       [ 0.145544,  0.585307,  0.14721 ],\n",
       "       [ 0.312194,  0.695881,  0.098211],\n",
       "       [ 0.014795,  0.719161,  0.052963]])"
      ]
     },
     "execution_count": 7,
     "metadata": {},
     "output_type": "execute_result"
    }
   ],
   "source": [
    "w1"
   ]
  },
  {
   "cell_type": "code",
   "execution_count": null,
   "metadata": {
    "collapsed": false
   },
   "outputs": [],
   "source": [
    "roundit(forwardpath([1,0,0,-1])[1])"
   ]
  },
  {
   "cell_type": "code",
   "execution_count": null,
   "metadata": {
    "collapsed": true
   },
   "outputs": [],
   "source": []
  }
 ],
 "metadata": {
  "kernelspec": {
   "display_name": "Python [Root]",
   "language": "python",
   "name": "Python [Root]"
  },
  "language_info": {
   "codemirror_mode": {
    "name": "ipython",
    "version": 2
   },
   "file_extension": ".py",
   "mimetype": "text/x-python",
   "name": "python",
   "nbconvert_exporter": "python",
   "pygments_lexer": "ipython2",
   "version": "2.7.12"
  }
 },
 "nbformat": 4,
 "nbformat_minor": 0
}
